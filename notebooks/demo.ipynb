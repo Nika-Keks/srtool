{
 "cells": [
  {
   "cell_type": "code",
   "execution_count": 1,
   "metadata": {},
   "outputs": [],
   "source": [
    "import os\n",
    "os.chdir(\"..\")"
   ]
  },
  {
   "cell_type": "code",
   "execution_count": 2,
   "metadata": {},
   "outputs": [],
   "source": [
    "import torch\n",
    "import soundfile as sf\n",
    "import whisper\n",
    "\n",
    "from torchaudio import transforms as T\n",
    "from srtool.models import SRModelPreTrained\n",
    "from IPython.display import Audio, display"
   ]
  },
  {
   "cell_type": "code",
   "execution_count": 3,
   "metadata": {},
   "outputs": [],
   "source": [
    "pt_path = \"./zoo/sr-model.pt\"\n",
    "threshhold = 0.6122\n",
    "audio_files = [\n",
    "    \"./notebooks/demo-data/my1.ogg\",\n",
    "    \"./notebooks/demo-data/my2.ogg\",\n",
    "    \"./notebooks/demo-data/another.wav\"\n",
    "]"
   ]
  },
  {
   "cell_type": "code",
   "execution_count": 4,
   "metadata": {},
   "outputs": [
    {
     "data": {
      "text/plain": [
       "<All keys matched successfully>"
      ]
     },
     "execution_count": 4,
     "metadata": {},
     "output_type": "execute_result"
    }
   ],
   "source": [
    "model = SRModelPreTrained(pt_path).cpu().eval()\n",
    "model.load_state_dict(torch.load(pt_path)[\"model_state\"])"
   ]
  },
  {
   "cell_type": "code",
   "execution_count": 5,
   "metadata": {},
   "outputs": [],
   "source": [
    "def read_audio(path: str, resample_rate: int = 16_000):\n",
    "    wav, sr = sf.read(path, dtype=\"float32\")\n",
    "    resampler = T.Resample(sr, resample_rate)\n",
    "    \n",
    "    return resampler(torch.from_numpy(wav))\n"
   ]
  },
  {
   "cell_type": "code",
   "execution_count": null,
   "metadata": {},
   "outputs": [],
   "source": [
    "wav_lst = [read_audio(p) for p in audio_files]\n",
    "for wav in wav_lst:\n",
    "    display(Audio(wav, rate=16_000))"
   ]
  },
  {
   "cell_type": "code",
   "execution_count": 7,
   "metadata": {},
   "outputs": [],
   "source": [
    "mels = [whisper.log_mel_spectrogram(p)[None, ...] for p in audio_files]"
   ]
  },
  {
   "cell_type": "code",
   "execution_count": 8,
   "metadata": {},
   "outputs": [],
   "source": [
    "with torch.no_grad():\n",
    "    embeddins = torch.concat([model(mel) for mel in mels])\n",
    "embeddins = (embeddins.T / torch.sqrt(torch.sum(embeddins**2, dim=1))).T"
   ]
  },
  {
   "cell_type": "code",
   "execution_count": 11,
   "metadata": {},
   "outputs": [
    {
     "data": {
      "text/plain": [
       "tensor([[ 1.0000,  0.7672, -0.0127],\n",
       "        [ 0.7672,  1.0000,  0.0462],\n",
       "        [-0.0127,  0.0462,  1.0000]])"
      ]
     },
     "execution_count": 11,
     "metadata": {},
     "output_type": "execute_result"
    }
   ],
   "source": [
    "scores = embeddins @ embeddins.T\n",
    "scores"
   ]
  },
  {
   "cell_type": "code",
   "execution_count": 15,
   "metadata": {},
   "outputs": [
    {
     "name": "stdout",
     "output_type": "stream",
     "text": [
      "threshhold=0.6122\n",
      "m1 vs my2: True, srore  0.7672\n",
      "m1 vs another: False, srore -0.0127\n",
      "m2 vs another: False, srore  0.0462\n"
     ]
    }
   ],
   "source": [
    "is_ver = scores > threshhold\n",
    "print(f\"{threshhold=}\")\n",
    "print(f\"m1 vs my2: {is_ver[0][1]}, srore {scores[0][1]: .4f}\")\n",
    "print(f\"m1 vs another: {is_ver[0][2]}, srore {scores[0][2]: .4f}\")\n",
    "print(f\"m2 vs another: {is_ver[1][2]}, srore {scores[1][2]: .4f}\")"
   ]
  },
  {
   "cell_type": "code",
   "execution_count": null,
   "metadata": {},
   "outputs": [],
   "source": []
  },
  {
   "cell_type": "code",
   "execution_count": null,
   "metadata": {},
   "outputs": [],
   "source": []
  },
  {
   "cell_type": "code",
   "execution_count": null,
   "metadata": {},
   "outputs": [],
   "source": []
  }
 ],
 "metadata": {
  "kernelspec": {
   "display_name": ".vgenv",
   "language": "python",
   "name": "python3"
  },
  "language_info": {
   "codemirror_mode": {
    "name": "ipython",
    "version": 3
   },
   "file_extension": ".py",
   "mimetype": "text/x-python",
   "name": "python",
   "nbconvert_exporter": "python",
   "pygments_lexer": "ipython3",
   "version": "3.8.10"
  }
 },
 "nbformat": 4,
 "nbformat_minor": 2
}
